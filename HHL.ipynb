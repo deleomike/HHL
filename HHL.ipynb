{
 "cells": [
  {
   "cell_type": "markdown",
   "id": "4f90ba8f-f704-4773-9db3-41572580a5e7",
   "metadata": {},
   "source": [
    "# HHL Algorithm"
   ]
  },
  {
   "cell_type": "markdown",
   "id": "912c683b-11ac-4b9d-97f6-4418ba891865",
   "metadata": {},
   "source": [
    "## Imports"
   ]
  },
  {
   "cell_type": "code",
   "execution_count": 1,
   "id": "31ed8cc6-4a5a-4b68-b9cb-9066f64ffc25",
   "metadata": {},
   "outputs": [
    {
     "name": "stderr",
     "output_type": "stream",
     "text": [
      "/var/folders/j5/zjbd__c92h76zqc6n0yw0msw0000gn/T/ipykernel_11341/1244597687.py:8: DeprecationWarning: ``qiskit.algorithms`` has been migrated to an independent package: https://github.com/qiskit-community/qiskit-algorithms. The ``qiskit.algorithms`` import path is deprecated as of qiskit-terra 0.25.0 and will be removed no earlier than 3 months after the release date. Please run ``pip install qiskit_algorithms`` and use ``import qiskit_algorithms`` instead.\n",
      "  from qiskit.algorithms import AmplitudeEstimation, EstimationProblem\n"
     ]
    }
   ],
   "source": [
    "import math\n",
    "\n",
    "import numpy as np\n",
    "\n",
    "from typing import Optional, Callable, Union, Tuple, List\n",
    "\n",
    "from qiskit import QuantumCircuit, QuantumRegister, AncillaRegister\n",
    "from qiskit.algorithms import AmplitudeEstimation, EstimationProblem\n",
    "from qiskit.primitives import Sampler\n",
    "from qiskit.quantum_info import Statevector\n",
    "from qiskit.circuit.library.arithmetic.exact_reciprocal import ExactReciprocal\n",
    "from qiskit.circuit.library import PhaseEstimation\n",
    "\n",
    "from qiskit.opflow import (\n",
    "    Z,\n",
    "    I,\n",
    "    StateFn,\n",
    "    TensoredOp,\n",
    "    ExpectationBase,\n",
    "    CircuitSampler,\n",
    "    ListOp,\n",
    "    ExpectationFactory,\n",
    "    ComposedOp,\n",
    ")\n",
    "\n",
    "from linear_solvers.observables.linear_system_observable import LinearSystemObservable\n",
    "from linear_solvers import LinearSolver, LinearSolverResult, NumPyLinearSolver\n",
    "from linear_solvers import HHL as TrueHHL\n",
    "from linear_solvers.matrices.numpy_matrix import NumPyMatrix"
   ]
  },
  {
   "cell_type": "markdown",
   "id": "1d83d3df-ad94-4e4f-8e63-87a3ca9dd030",
   "metadata": {},
   "source": [
    "A = np.array([\n",
    "    [1, -1/3],\n",
    "    [-1/3, 1]\n",
    "])\n",
    "\n",
    "b = np.array([1, 0])\n",
    "\n",
    "nb = int(np.log2(len(b)))"
   ]
  },
  {
   "cell_type": "markdown",
   "id": "fb8440aa-8867-4508-a8c2-9293ceab4a8b",
   "metadata": {},
   "source": [
    "print(f\"A = {A}\")\n",
    "print(f\"b = {b}\")\n",
    "print(f\"Number of qubits = {nb}\")\n"
   ]
  },
  {
   "cell_type": "code",
   "execution_count": null,
   "id": "feacc93e-bfc9-420f-b4f1-396d7042f70b",
   "metadata": {},
   "outputs": [],
   "source": []
  },
  {
   "cell_type": "markdown",
   "id": "0e9d5565-b5e6-444d-a89c-27f53e41d3c4",
   "metadata": {},
   "source": [
    "# 1. State Preparation"
   ]
  },
  {
   "cell_type": "markdown",
   "id": "0ad073b5-483e-4810-948e-487f2d0d4efc",
   "metadata": {},
   "source": [
    "## Amplitude Estimation"
   ]
  },
  {
   "cell_type": "markdown",
   "id": "fbd1b9a0-31a4-4349-8c0e-10343254316f",
   "metadata": {},
   "source": [
    "problem = EstimationProblem(\n",
    "    state_preparation=A,  # A operator\n",
    "    grover_operator=b,  # Q operator\n",
    "    objective_qubits=[0],  # the \"good\" state Psi1 is identified as measuring |1> in qubit 0\n",
    ")"
   ]
  },
  {
   "cell_type": "markdown",
   "id": "a14ba6a2-4935-4548-89b2-7311fb74ba2a",
   "metadata": {},
   "source": [
    "compute_bits = QuantumRegister(nb)\n",
    "ancilla = AncillaRegister(1)\n",
    "sampler = Sampler()\n",
    "\n",
    "qc = QuantumCircuit(compute_bits, ancilla)\n",
    "\n",
    "ae = AmplitudeEstimation(\n",
    "    num_eval_qubits=nb,  # the number of evaluation qubits specifies circuit width and accuracy\n",
    "    sampler=sampler,\n",
    ")\n",
    "\n",
    "qc.draw()"
   ]
  },
  {
   "cell_type": "markdown",
   "id": "c2ea9ef5-6dc6-4f4d-a0fe-863f72dc24e8",
   "metadata": {
    "jp-MarkdownHeadingCollapsed": true
   },
   "source": [
    "## resize_matrix"
   ]
  },
  {
   "cell_type": "markdown",
   "id": "a9301c4c-c753-4f9f-9480-cb803b5a5c32",
   "metadata": {},
   "source": [
    "Resizes the matrix to match the appropriate dimensionality. Fills in the new cells with zeros.\n",
    "\n",
    "- **matrix** np.ndarray: Square ($N \\times N$) or vector (1xN)\n",
    "- **n** int: The desired dimensionality in $2^n$\n",
    "- **verbose** bool: Verbosity\n",
    "\n",
    "**returns** np.ndarray: Resized matrix $2^n \\times 2^n$"
   ]
  },
  {
   "cell_type": "code",
   "execution_count": 2,
   "id": "c15d72d9-79e8-41b9-8ef4-fd68b4491551",
   "metadata": {},
   "outputs": [],
   "source": [
    "def resize_matrix(matrix: np.ndarray, n: int, verbose: bool = False) -> np.ndarray:\n",
    "    dim = 2 ** n\n",
    "\n",
    "    assert matrix.ndim <= 2, \"Currently, only 2-Dimensional arrays or lower are supported.\"\n",
    "\n",
    "    if verbose:\n",
    "        print(\"Dimensions: \", matrix.ndim)\n",
    "\n",
    "    # Not square or vector\n",
    "    # if matrix.ndim >= 2:\n",
    "    #     assert (matrix.shape[0] == matrix.shape[1] and (matrix.shape[0] == 1 or matrix.shape[1] == 1)), \"Matrix is not square or vector\"\n",
    "    # else:\n",
    "\n",
    "    # Check if shape is (1, 2^n) or (2^n, 2^n)\n",
    "    # n,m = matrix.shape\n",
    "    new_shape = tuple(dim for _ in range(matrix.ndim))\n",
    "    R = np.empty(new_shape)\n",
    "    X=matrix\n",
    "    \n",
    "    if matrix.ndim == 1:\n",
    "        R[:X.shape[0]] = X[:R.shape[0]]\n",
    "    elif matrix.ndim == 2:\n",
    "        R[:X.shape[0],:X.shape[1]] = X[:R.shape[0],:R.shape[1]]\n",
    "    # matrix = np.resize(matrix, [dim for _ in range(matrix.ndim)])\n",
    "\n",
    "    return R\n",
    "\n",
    "    # np.resize(matrix,)"
   ]
  },
  {
   "cell_type": "code",
   "execution_count": 3,
   "id": "ddda5422-ddb5-4ba0-8e8d-8b8fd55cd248",
   "metadata": {},
   "outputs": [],
   "source": [
    "test_vector = np.ones(2)\n",
    "test_m2 = np.ones((2,2))\n",
    "test_m3 = np.ones((3,3))\n",
    "\n",
    "assert np.shape(resize_matrix(test_vector, 1)) == test_vector.shape # Test no changes\n",
    "assert np.shape(resize_matrix(test_vector, 2)) == (2**2,) # Test 2**2\n",
    "\n",
    "assert resize_matrix(test_m2, 1).shape == test_m2.shape\n",
    "assert resize_matrix(test_m2, 2).shape == (4,4)\n",
    "\n",
    "assert resize_matrix(test_m3, 2).shape == (4,4)\n",
    "\n",
    "assert resize_matrix(test_m2, 4).shape == (2**4, 2**4)"
   ]
  },
  {
   "cell_type": "markdown",
   "id": "21c008f3-76ed-48d8-b863-8a000c961d1c",
   "metadata": {
    "jp-MarkdownHeadingCollapsed": true
   },
   "source": [
    "## calc_qubits"
   ]
  },
  {
   "cell_type": "markdown",
   "id": "595358dc-43fe-48d8-9ea3-8cc76fb5f827",
   "metadata": {},
   "source": [
    "Given a vector, calculates the number of qubits needed to encode it into a circuit."
   ]
  },
  {
   "cell_type": "code",
   "execution_count": 4,
   "id": "ce36ef35-ce2e-47aa-a7e1-025638272156",
   "metadata": {},
   "outputs": [],
   "source": [
    "def calc_qubits(vector: np.ndarray) -> int:\n",
    "    return math.ceil(np.log2(len(vector)))"
   ]
  },
  {
   "cell_type": "code",
   "execution_count": 5,
   "id": "f02e846f-2f88-46d8-899c-e13c12c1d52c",
   "metadata": {},
   "outputs": [],
   "source": [
    "assert calc_qubits([0, 0]) == 1\n",
    "assert calc_qubits([0,0,0]) == 2\n",
    "assert calc_qubits([0,0,0,0,0]) == 3"
   ]
  },
  {
   "cell_type": "markdown",
   "id": "6fdef3de-5102-4f9d-afbf-3d9edfa50898",
   "metadata": {
    "jp-MarkdownHeadingCollapsed": true
   },
   "source": [
    "## AE_Circuit"
   ]
  },
  {
   "cell_type": "markdown",
   "id": "b28e43c5-d661-4d4e-b4ef-f1f085306f0b",
   "metadata": {},
   "source": [
    "Amplitude Encoding Circuit.\n",
    "\n",
    "- **vector** np.ndarray: Vector $b$.\n",
    "- **nb** int: number of qubits to represent the vector. Optional, and will be calculated otherwise.\n",
    "- **verbose** bool: Verbosity\n",
    "\n",
    "**Returns** QuantumCircuit: the quantum circuit representing the amplitude encoding of the vector."
   ]
  },
  {
   "cell_type": "code",
   "execution_count": 6,
   "id": "cc96a99d-5091-4b8c-bdcf-067c9a76658b",
   "metadata": {},
   "outputs": [],
   "source": [
    "def AE_Circuit(vector: np.ndarray, nb: int = None, verbose: bool = False) -> QuantumCircuit:\n",
    "    if nb is None:\n",
    "        nb = calc_qubits(vector)\n",
    "\n",
    "        if verbose:\n",
    "            print(f\"Number of Qubits: {nb}\")\n",
    "\n",
    "    if len(vector) != 2**nb:\n",
    "        vector = resize_matrix(vector, nb, verbose=verbose)\n",
    "\n",
    "    vector_circuit = QuantumCircuit(nb)\n",
    "\n",
    "    isometry = vector / np.linalg.norm(vector)\n",
    "\n",
    "    if verbose:\n",
    "        print(\"Isometry: \", isometry)\n",
    "\n",
    "    vector_circuit.isometry(\n",
    "        isometry, list(range(nb)), None\n",
    "    )\n",
    "\n",
    "    vector_circuit.name = \"Amplitude Encoding\"\n",
    "        \n",
    "    return vector_circuit\n",
    "    "
   ]
  },
  {
   "cell_type": "code",
   "execution_count": 7,
   "id": "b5c228c6-4c5b-4e17-a8e5-6280eb88f985",
   "metadata": {},
   "outputs": [],
   "source": [
    "assert AE_Circuit(np.array([1, 0])).num_qubits == 1\n",
    "assert AE_Circuit(np.array([1,0.1,1])).num_qubits == 2\n",
    "assert AE_Circuit(np.array([1,0,1,0.2,0.3])).num_qubits == 3"
   ]
  },
  {
   "cell_type": "markdown",
   "id": "4d44fbfa-f0b0-4801-8a13-0accbcfada8d",
   "metadata": {},
   "source": [
    "# 2. Quantum Phase Estimation"
   ]
  },
  {
   "cell_type": "markdown",
   "id": "4819394c-c548-4c27-a120-2ead0b2b6eb7",
   "metadata": {
    "jp-MarkdownHeadingCollapsed": true
   },
   "source": [
    "## create_matrix_circuit"
   ]
  },
  {
   "cell_type": "markdown",
   "id": "c977dbf1-4d16-426c-bd50-c7c729cb5757",
   "metadata": {},
   "source": [
    "\n",
    "- **matrix** np.ndarray: Input matrix $A$. Should be a square hermitian\n",
    "- **number_qubits** int: The expected number of qubits for the circuit\n",
    "\n",
    "**Returns**: A QuantumCircuit representing the matrix A."
   ]
  },
  {
   "cell_type": "code",
   "execution_count": 8,
   "id": "ec6653db-66ce-4206-8eff-a20c53c828d0",
   "metadata": {},
   "outputs": [],
   "source": [
    "def create_matrix_circuit(matrix: np.ndarray, number_qubits: int) -> QuantumCircuit:\n",
    "    if isinstance(matrix, list):\n",
    "        matrix = np.array(matrix)\n",
    "\n",
    "    if matrix.shape[0] != matrix.shape[1]:\n",
    "        raise ValueError(\"Input matrix must be square!\")\n",
    "    if np.log2(matrix.shape[0]) % 1 != 0:\n",
    "        raise ValueError(\"Input matrix dimension must be 2^n!\")\n",
    "    if not np.allclose(matrix, matrix.conj().T):\n",
    "        raise ValueError(\"Input matrix must be hermitian!\")\n",
    "    if matrix.shape[0] != 2**number_qubits:\n",
    "        raise ValueError(\n",
    "            \"Input vector dimension does not match input \"\n",
    "            \"matrix dimension! Vector dimension: \"\n",
    "            + str(number_qubits)\n",
    "            + \". Matrix dimension: \"\n",
    "            + str(matrix.shape[0])\n",
    "        )\n",
    "    matrix_circuit = NumPyMatrix(matrix, evolution_time=2 * np.pi)\n",
    "\n",
    "    return matrix_circuit"
   ]
  },
  {
   "cell_type": "code",
   "execution_count": 9,
   "id": "549c0737-f86d-4f86-a9b4-a36f84db6dec",
   "metadata": {},
   "outputs": [
    {
     "name": "stdout",
     "output_type": "stream",
     "text": [
      "       ┌─────────────┐\n",
      "state: ┤ circuit-130 ├\n",
      "       └─────────────┘\n",
      "         ┌──────────────┐\n",
      "state_0: ┤0             ├\n",
      "         │  circuit-134 │\n",
      "state_1: ┤1             ├\n",
      "         └──────────────┘\n",
      "         ┌──────────────┐\n",
      "state_0: ┤0             ├\n",
      "         │              │\n",
      "state_1: ┤1 circuit-138 ├\n",
      "         │              │\n",
      "state_2: ┤2             ├\n",
      "         └──────────────┘\n"
     ]
    }
   ],
   "source": [
    "for i in [1, 2, 3]:\n",
    "    n = 2**i\n",
    "    m = np.round(np.random.random((n,n)) * 10,2)\n",
    "    m = m + m.conj().T\n",
    "    num_bits = calc_qubits(m)\n",
    "\n",
    "    circuit = create_matrix_circuit(m, num_bits)\n",
    "\n",
    "    assert(circuit.num_qubits == num_bits)\n",
    "\n",
    "    print(circuit)\n",
    "\n",
    "# Test non-hermitian\n",
    "m = np.round(np.random.random((2,2)) * 10,2)\n",
    "try:\n",
    "    create_matrix_circuit(m, 2)\n",
    "except ValueError as e:\n",
    "    assert str(e) == \"Input matrix must be hermitian!\""
   ]
  },
  {
   "cell_type": "markdown",
   "id": "52d5378e-f039-44ef-b391-265b13430536",
   "metadata": {},
   "source": [
    "## calculate_nl"
   ]
  },
  {
   "cell_type": "markdown",
   "id": "1815d2b8-7ca8-46df-bc3d-f3607a07472c",
   "metadata": {},
   "source": [
    "Update the number of qubits required to represent the eigenvalues\n",
    "\n",
    "$$e^{-2 \\pi i \\lambda} = e^{2 \\pi i (1 - \\lambda)}$$\n",
    "\n",
    "- **number_bits** int: The number of qubits to represent the eigenvalues.\n",
    "- **kappa** float:\n",
    "- **neg_vals** float: To register negative eigenvalus. Default true\n",
    "\n",
    "**Returns** float: The value of the scaling factor."
   ]
  },
  {
   "cell_type": "code",
   "execution_count": 10,
   "id": "6a577365-9fd9-41f4-880b-54f216c36960",
   "metadata": {},
   "outputs": [],
   "source": [
    "def calculate_nl(number_bits: int, kappa: float, neg_vals: bool = True):\n",
    "    nl = max(number_bits + 1, int(np.ceil(np.log2(kappa + 1)))) + neg_vals\n",
    "    return nl"
   ]
  },
  {
   "cell_type": "code",
   "execution_count": null,
   "id": "19f60335-2482-4bc0-92be-e38e06988626",
   "metadata": {},
   "outputs": [],
   "source": []
  },
  {
   "cell_type": "markdown",
   "id": "39ab3f57-86b9-4dff-a170-3ae48dc3bd34",
   "metadata": {},
   "source": [
    "## get_delta"
   ]
  },
  {
   "cell_type": "markdown",
   "id": "70d35a24-ddcf-4949-ae45-afe8cfa4fd2f",
   "metadata": {},
   "source": [
    "Calculates the scaling factor to represent exactly $\\lambda_{min}$ on $n_l$ binary digits.\n",
    "\n",
    "- **n_l** int: The number of qubits to represent the eigenvalues.\n",
    "- **lambda_min** float: the smallest eigenvalue.\n",
    "- **lambda_max** float: the largest eigenvalue.\n",
    "\n",
    "**Returns** float: The value of the scaling factor."
   ]
  },
  {
   "cell_type": "code",
   "execution_count": 11,
   "id": "3edacdf9-5fb2-4f98-89c7-d53af2bbc93b",
   "metadata": {},
   "outputs": [],
   "source": [
    "def get_delta(n_l: int, lambda_min: float, lambda_max: float) -> float:\n",
    "    formatstr = \"#0\" + str(n_l + 2) + \"b\"\n",
    "    lambda_min_tilde = np.abs(lambda_min * (2**n_l - 1) / lambda_max)\n",
    "    # floating point precision can cause problems\n",
    "    if np.abs(lambda_min_tilde - 1) < 1e-7:\n",
    "        lambda_min_tilde = 1\n",
    "    binstr = format(int(lambda_min_tilde), formatstr)[2::]\n",
    "    lamb_min_rep = 0\n",
    "    \n",
    "    for i, char in enumerate(binstr):\n",
    "        lamb_min_rep += int(char) / (2 ** (i + 1))\n",
    "    return lamb_min_rep"
   ]
  },
  {
   "cell_type": "code",
   "execution_count": null,
   "id": "f5831bd5-fd83-4561-b037-5aeed1641a01",
   "metadata": {},
   "outputs": [],
   "source": []
  },
  {
   "cell_type": "markdown",
   "id": "30be01ce-ce3f-4a02-a633-1cdcda2cf7a2",
   "metadata": {},
   "source": [
    "## get_kappa"
   ]
  },
  {
   "cell_type": "code",
   "execution_count": null,
   "id": "f72a19b6-3ead-4e8a-aa8e-95a3e5c92cc2",
   "metadata": {},
   "outputs": [],
   "source": []
  },
  {
   "cell_type": "code",
   "execution_count": 12,
   "id": "6067c457-38ea-426a-97ba-ab21165f1a76",
   "metadata": {},
   "outputs": [],
   "source": [
    "def get_kappa(matrix_circuit: QuantumCircuit):\n",
    "    if (\n",
    "        hasattr(matrix_circuit, \"condition_bounds\")\n",
    "        and matrix_circuit.condition_bounds() is not None\n",
    "    ):\n",
    "        kappa = matrix_circuit.condition_bounds()[1]\n",
    "    else:\n",
    "        kappa = 1\n",
    "\n",
    "    return kappa"
   ]
  },
  {
   "cell_type": "code",
   "execution_count": null,
   "id": "ea5f0c06-9e3c-4135-acd9-0f4c1b8340dd",
   "metadata": {},
   "outputs": [],
   "source": []
  },
  {
   "cell_type": "markdown",
   "id": "c3549b3a-8ffd-4b0c-803d-18bec854ee0c",
   "metadata": {},
   "source": [
    "## set_eigenbounds"
   ]
  },
  {
   "cell_type": "code",
   "execution_count": null,
   "id": "98c54957-42b6-4f85-b9a2-a563668bbe76",
   "metadata": {},
   "outputs": [],
   "source": []
  },
  {
   "cell_type": "code",
   "execution_count": 13,
   "id": "889460cb-69f4-404a-8cd9-2481b4367343",
   "metadata": {},
   "outputs": [],
   "source": [
    "def set_eigenbounds(matrix_circuit: QuantumCircuit, nl: int, neg_vals: bool = True):\n",
    "    if (hasattr(matrix_circuit, \"eigs_bounds\") and matrix_circuit.eigs_bounds() is not None):\n",
    "        \n",
    "        lambda_min, lambda_max = matrix_circuit.eigs_bounds()\n",
    "        # Constant so that the minimum eigenvalue is represented exactly, since it contributes\n",
    "        # the most to the solution of the system. -1 to take into account the sign qubit\n",
    "        delta = get_delta(nl - neg_vals, lambda_min, lambda_max)\n",
    "        # Update evolution time\n",
    "        matrix_circuit.evolution_time = (\n",
    "            2 * np.pi * delta / lambda_min / (2**neg_vals)\n",
    "        )\n",
    "        # Update the scaling of the solution\n",
    "        scaling = lambda_min\n",
    "    else:\n",
    "        delta = 1 / (2**nl)\n",
    "        scaling = 1\n",
    "        print(\"The solution will be calculated up to a scaling factor.\")\n",
    "\n",
    "    return matrix_circuit, delta, scaling\n"
   ]
  },
  {
   "cell_type": "markdown",
   "id": "9624ac25-6700-404b-9bee-229d4131b46f",
   "metadata": {},
   "source": [
    "## calculate_norm"
   ]
  },
  {
   "cell_type": "markdown",
   "id": "2a6372f8-1c5f-47bb-9676-54eff88ab3c3",
   "metadata": {},
   "source": [
    "Calculates the value of the euclidean norm of the solution.\n",
    "\n",
    "- **qc** QuantumCircuit: The quantum circuit preparing the solution x to the system.\n",
    "- **scaling** float: Scaling factor of the norm\n",
    "\n",
    "**Returns** float: The value of the euclidean norm of the solution."
   ]
  },
  {
   "cell_type": "code",
   "execution_count": 14,
   "id": "98fcb7e1-95d3-44c4-9cbb-a591f65828c3",
   "metadata": {},
   "outputs": [],
   "source": [
    "def calculate_norm(qc: QuantumCircuit, scaling: float) -> float:\n",
    "    # Calculate the number of qubits\n",
    "    nb = qc.qregs[0].size\n",
    "    nl = qc.qregs[1].size\n",
    "    na = qc.num_ancillas\n",
    "\n",
    "    # Create the Operators Zero and One\n",
    "    zero_op = (I + Z) / 2\n",
    "    one_op = (I - Z) / 2\n",
    "\n",
    "    # Norm observable\n",
    "    observable = one_op ^ TensoredOp((nl + na) * [zero_op]) ^ (I ^ nb)\n",
    "    norm_2 = (~StateFn(observable) @ StateFn(qc)).eval()\n",
    "\n",
    "    return np.real(np.sqrt(norm_2) / scaling)"
   ]
  },
  {
   "cell_type": "code",
   "execution_count": null,
   "id": "1ea8a045-ee3c-49e6-8f9b-5fe2e1217499",
   "metadata": {},
   "outputs": [],
   "source": []
  },
  {
   "cell_type": "markdown",
   "id": "27d799e8-ff93-4b5c-b181-f29d979c41e2",
   "metadata": {},
   "source": [
    "# Production"
   ]
  },
  {
   "cell_type": "markdown",
   "id": "0fbd3688-efe0-4498-b7c0-cca2d0c3e127",
   "metadata": {},
   "source": [
    "## HHL"
   ]
  },
  {
   "cell_type": "code",
   "execution_count": null,
   "id": "ad3630f4-32b0-4d01-8c05-694d2ccb246b",
   "metadata": {},
   "outputs": [],
   "source": []
  },
  {
   "cell_type": "code",
   "execution_count": 15,
   "id": "3c63a2e7-048a-4166-b692-495606cb216e",
   "metadata": {},
   "outputs": [],
   "source": [
    "def construct_circuit(A: np.ndarray, b: np.ndarray, neg_vals: bool = True, nf: int = 1, epsilon: float = 1e-2):\n",
    "    _epsilon_r = epsilon / 3  # conditioned rotation\n",
    "    _epsilon_s = epsilon / 3  # state preparation\n",
    "    _epsilon_a = epsilon / 6  # hamiltonian simulation\n",
    "\n",
    "    nb = calc_qubits(b)\n",
    "    \n",
    "    ae = AE_Circuit(b, nb, verbose=True)\n",
    "    print(ae)\n",
    "\n",
    "    matrix_circuit = create_matrix_circuit(A, ae.num_qubits) #???\n",
    "\n",
    "    kappa = get_kappa(matrix_circuit)\n",
    "    \n",
    "    nl = calculate_nl(nb, kappa)\n",
    "\n",
    "    if hasattr(matrix_circuit, \"tolerance\"):\n",
    "        matrix_circuit.tolerance = _epsilon_a\n",
    "\n",
    "    matrix_circuit, delta, scaling = set_eigenbounds(matrix_circuit, nl)\n",
    "\n",
    "    phase_estimation = PhaseEstimation(nl, matrix_circuit)\n",
    "\n",
    "    reciprocal_circuit = ExactReciprocal(nl, delta, neg_vals=neg_vals)\n",
    "    reciprocal_circuit.name = \"Conditional Rotation\"\n",
    "    # Update number of ancilla qubits\n",
    "    na = matrix_circuit.num_ancillas\n",
    "\n",
    "    # check if the matrix can calculate bounds for the eigenvalues\n",
    "\n",
    "    # Initialise the quantum registers\n",
    "    qb = QuantumRegister(nb)  # right hand side and solution\n",
    "    ql = QuantumRegister(nl)  # eigenvalue evaluation qubits\n",
    "    if na > 0:\n",
    "        qa = AncillaRegister(na)  # ancilla qubits\n",
    "    qf = QuantumRegister(nf)  # flag qubits\n",
    "\n",
    "    if na > 0:\n",
    "        qc = QuantumCircuit(qb, ql, qa, qf)\n",
    "    else:\n",
    "        qc = QuantumCircuit(qb, ql, qf)\n",
    "    \n",
    "    # State preparation\n",
    "    qc.append(ae, qb[:])\n",
    "    \n",
    "    # QPE\n",
    "    if na > 0:\n",
    "        qc.append(phase_estimation, ql[:] + qb[:] + qa[: matrix_circuit.num_ancillas])\n",
    "    else:\n",
    "        qc.append(phase_estimation, ql[:] + qb[:])\n",
    "\n",
    "    # Coditional Rotation\n",
    "    qc.append(reciprocal_circuit, ql[::-1] + [qf[0]])\n",
    "\n",
    "    # QPE inverse\n",
    "    if na > 0:\n",
    "        qc.append(\n",
    "            phase_estimation.inverse(),\n",
    "            ql[:] + qb[:] + qa[: matrix_circuit.num_ancillas],\n",
    "        )\n",
    "    else:\n",
    "        qc.append(phase_estimation.inverse(), ql[:] + qb[:])\n",
    "    return qc, scaling"
   ]
  },
  {
   "cell_type": "code",
   "execution_count": 16,
   "id": "dc781e67-d9e0-45fc-95e2-347116bd6086",
   "metadata": {},
   "outputs": [],
   "source": [
    "def HHL(A: np.ndarray, b: np.ndarray, neg_vals: bool = True, nf: int = 1, epsilon: float = 1e-2):\n",
    "    qc, scaling = construct_circuit(A, b, neg_vals, nf, epsilon)\n",
    "\n",
    "    norm = calculate_norm(qc, scaling)\n",
    "\n",
    "    sol = LinearSolverResult()\n",
    "    \n",
    "    sol.state = qc\n",
    "    sol.euclidean_norm = norm\n",
    "\n",
    "    return sol"
   ]
  },
  {
   "cell_type": "code",
   "execution_count": 17,
   "id": "3a37ae11-19f7-4e17-afae-552805fa3a18",
   "metadata": {},
   "outputs": [
    {
     "name": "stdout",
     "output_type": "stream",
     "text": [
      "Isometry:  [1. 0.]\n",
      "   ┌──────────┐\n",
      "q: ┤ Isometry ├\n",
      "   └──────────┘\n"
     ]
    },
    {
     "name": "stderr",
     "output_type": "stream",
     "text": [
      "/var/folders/j5/zjbd__c92h76zqc6n0yw0msw0000gn/T/ipykernel_11341/2589836013.py:12: DeprecationWarning: The class ``qiskit.opflow.list_ops.tensored_op.TensoredOp`` is deprecated as of qiskit-terra 0.24.0. It will be removed no earlier than 3 months after the release date. For code migration guidelines, visit https://qisk.it/opflow_migration.\n",
      "  observable = one_op ^ TensoredOp((nl + na) * [zero_op]) ^ (I ^ nb)\n",
      "/var/folders/j5/zjbd__c92h76zqc6n0yw0msw0000gn/T/ipykernel_11341/2589836013.py:13: DeprecationWarning: The class ``qiskit.opflow.state_fns.operator_state_fn.OperatorStateFn`` is deprecated as of qiskit-terra 0.24.0. It will be removed no earlier than 3 months after the release date. For code migration guidelines, visit https://qisk.it/opflow_migration.\n",
      "  norm_2 = (~StateFn(observable) @ StateFn(qc)).eval()\n",
      "/var/folders/j5/zjbd__c92h76zqc6n0yw0msw0000gn/T/ipykernel_11341/2589836013.py:13: DeprecationWarning: The class ``qiskit.opflow.state_fns.circuit_state_fn.CircuitStateFn`` is deprecated as of qiskit-terra 0.24.0. It will be removed no earlier than 3 months after the release date. For code migration guidelines, visit https://qisk.it/opflow_migration.\n",
      "  norm_2 = (~StateFn(observable) @ StateFn(qc)).eval()\n"
     ]
    }
   ],
   "source": [
    "A = np.array([\n",
    "    [1, -1/3],\n",
    "    [-1/3, 1]\n",
    "])\n",
    "\n",
    "b = np.array([1, 0])\n",
    "\n",
    "sol = HHL(A,b)"
   ]
  },
  {
   "cell_type": "code",
   "execution_count": 18,
   "id": "b47a2280-9472-47cd-9d58-e5309239b632",
   "metadata": {},
   "outputs": [
    {
     "ename": "NameError",
     "evalue": "name 'compute_x' is not defined",
     "output_type": "error",
     "traceback": [
      "\u001b[0;31m---------------------------------------------------------------------------\u001b[0m",
      "\u001b[0;31mNameError\u001b[0m                                 Traceback (most recent call last)",
      "Cell \u001b[0;32mIn[18], line 1\u001b[0m\n\u001b[0;32m----> 1\u001b[0m \u001b[43mcompute_x\u001b[49m(sol)\n",
      "\u001b[0;31mNameError\u001b[0m: name 'compute_x' is not defined"
     ]
    }
   ],
   "source": [
    "compute_x(sol)"
   ]
  },
  {
   "cell_type": "markdown",
   "id": "7f6a9c2b-2e7b-4d92-a89b-12bb6d525e38",
   "metadata": {},
   "source": [
    "# Test"
   ]
  },
  {
   "cell_type": "code",
   "execution_count": null,
   "id": "e9311728-df24-41a8-9c17-e905313cb0f2",
   "metadata": {},
   "outputs": [],
   "source": [
    "def compute_x(naive_hhl_solution):\n",
    "\n",
    "    naive_sv = Statevector(naive_hhl_solution.state).data\n",
    "    \n",
    "    # Extract vector components; 10000(bin) == 16 & 10001(bin) == 17\n",
    "    naive_full_vector = np.array([naive_sv[16], naive_sv[17] ])\n",
    "    \n",
    "    print('naive raw solution vector:', naive_full_vector)\n",
    "\n",
    "    def get_solution_vector(solution):\n",
    "        \"\"\"Extracts and normalizes simulated state vector\n",
    "        from LinearSolverResult.\"\"\"\n",
    "        solution_vector = Statevector(solution.state).data[16:18].real\n",
    "        norm = solution.euclidean_norm\n",
    "        return norm * solution_vector / np.linalg.norm(solution_vector)\n",
    "\n",
    "    solution = get_solution_vector(naive_hhl_solution)\n",
    "    print('full naive solution vector:', solution)\n",
    "\n",
    "    return solution"
   ]
  },
  {
   "cell_type": "code",
   "execution_count": null,
   "id": "dbc5452f-b3a4-4e1c-af0f-905abc81b552",
   "metadata": {},
   "outputs": [],
   "source": []
  },
  {
   "cell_type": "markdown",
   "id": "c2ebf5b8-477a-4351-ac87-8314717d1eaa",
   "metadata": {},
   "source": [
    "Now that the functions for the HHL algorithm are defined, I can run it on a number of test cases"
   ]
  },
  {
   "cell_type": "code",
   "execution_count": null,
   "id": "5cc295d7-bb7b-40c0-92a7-a74ac7745dcb",
   "metadata": {},
   "outputs": [],
   "source": [
    "a_tests = [\n",
    "    np.array([ [1, -1/3], [-1/3, 1] ])\n",
    "]\n",
    "\n",
    "b_tests = [\n",
    "    np.array([1, 0])\n",
    "]\n",
    "\n",
    "x_tests = [\n",
    "    np.array([1.125, 0.375])\n",
    "]\n",
    "\n",
    "for n in 2**np.array([1, 2, 3]):\n",
    "    a = np.round(np.random.random((n,n)) * 10,2)\n",
    "    b = np.round(np.random.random(n) * 10,2)\n",
    "\n",
    "    # Make 'a' hermitian\n",
    "    a = a + a.conj().T\n",
    "\n",
    "    x = np.linalg.solve(a,b)\n",
    "\n",
    "    assert np.allclose(np.dot(a, x), b)\n",
    "\n",
    "    a_tests.append(a)\n",
    "    b_tests.append(b)\n",
    "    x_tests.append(x)\n",
    "print(x_tests)"
   ]
  },
  {
   "cell_type": "code",
   "execution_count": null,
   "id": "874be8a0-7d0d-45ab-be72-822f031d1816",
   "metadata": {},
   "outputs": [],
   "source": [
    "for a, b, x in zip(a_tests, b_tests, x_tests):\n",
    "    naive_hhl_solution = TrueHHL().solve(a, b)\n",
    "    compute_x(naive_hhl_solution)\n",
    "    naive_hhl_solution = HHL(a, b, epsilon=1e-4)\n",
    "\n",
    "    print(\"X: \", x)\n",
    "    answer = compute_x(naive_hhl_solution)\n",
    "\n",
    "    print(\"Answer: \", answer)\n",
    "    print(np.allclose(np.dot(a, answer), b))\n",
    "    print(\"-----\")"
   ]
  },
  {
   "cell_type": "code",
   "execution_count": null,
   "id": "3a2f5dcc-84c7-4c23-a3a8-05141658606a",
   "metadata": {},
   "outputs": [],
   "source": [
    "\n",
    "matrix = np.array([ [1, -1/3], [-1/3, 1] ])\n",
    "vector = np.array([1, 0])\n",
    "naive_hhl_solution = HHL().solve(A, b)"
   ]
  },
  {
   "cell_type": "code",
   "execution_count": null,
   "id": "724d72d3-cc73-4913-97d7-7b4bac5a0740",
   "metadata": {},
   "outputs": [],
   "source": [
    "naive_hhl_solution.state.draw()"
   ]
  },
  {
   "cell_type": "code",
   "execution_count": null,
   "id": "b6f293b7-0723-4003-bf17-69b655ed6f03",
   "metadata": {},
   "outputs": [],
   "source": [
    "compute_x(naive_hhl_solution)"
   ]
  },
  {
   "cell_type": "code",
   "execution_count": null,
   "id": "ef9d4fa8-e5f3-4df7-90fe-1249734e832f",
   "metadata": {},
   "outputs": [],
   "source": [
    "a_tests[-1]"
   ]
  },
  {
   "cell_type": "code",
   "execution_count": null,
   "id": "01608d1d-638c-43bd-a744-46b8e692cd9d",
   "metadata": {},
   "outputs": [],
   "source": [
    "HHL(np.eye(3), np.ones(3))"
   ]
  },
  {
   "cell_type": "code",
   "execution_count": null,
   "id": "25fd2cc6-cc08-4eb9-8b35-221c3bb4209d",
   "metadata": {},
   "outputs": [],
   "source": []
  }
 ],
 "metadata": {
  "kernelspec": {
   "display_name": "Python 3 (ipykernel)",
   "language": "python",
   "name": "python3"
  },
  "language_info": {
   "codemirror_mode": {
    "name": "ipython",
    "version": 3
   },
   "file_extension": ".py",
   "mimetype": "text/x-python",
   "name": "python",
   "nbconvert_exporter": "python",
   "pygments_lexer": "ipython3",
   "version": "3.8.9"
  }
 },
 "nbformat": 4,
 "nbformat_minor": 5
}
