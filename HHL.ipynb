{
 "cells": [
  {
   "cell_type": "markdown",
   "id": "4f90ba8f-f704-4773-9db3-41572580a5e7",
   "metadata": {},
   "source": [
    "# HHL Algorithm\n",
    "\n",
    "The research I’m proposing is based on a paper I found when I was searching through the Quantum Zoo site [1]. Originally, I had planned to do a paper on a quantum machine learning algorithm, and I found a paper that was describing how there is more to gaining a speedup in machine learning than just throwing the problem at a quantum computer. The paper was called Quantum Machine Learning Algorithms: Read the Fine Print which explained that most quantum algorithms being used for machine learning are in most part either derived from or wholly using the HHL algorithm which was developed by the researcher’s colleagues [2]. I decided that what was better than learning from a derivative was researching the more substantive and foundational source algorithm. The HHL algorithm is named after the authors of the Quantum algorithm for linear systems of equations paper, and is described as an algorithm that is more efficient than classical algorithms at solving a linear systems of equations [3]. For a given linear system  $$Ax=b$$\n",
    "⃗\r\n",
    "\r\n",
    "They consider the case where one doesn’t need to know the solution x ⃗ itself, but rather an approximation of the expectation value of some operator associated with x ⃗, for example x ⃗^† Mx ⃗ for some matrix M. In the case of sparse matrices where the A matrix is N-by-N, the matrix has a condition number k which determines the time complexity [3]. In the case of classical algorithms, they’re able to achieve a time complexity of O(N√k). The complexity achieved in the paper is a polynomial time of O(log⁡(N,k)) which is an exponential speedup over the classical approach [3].\r\n"
   ]
  },
  {
   "cell_type": "code",
   "execution_count": 1,
   "id": "31ed8cc6-4a5a-4b68-b9cb-9066f64ffc25",
   "metadata": {},
   "outputs": [
    {
     "name": "stderr",
     "output_type": "stream",
     "text": [
      "/var/folders/j5/zjbd__c92h76zqc6n0yw0msw0000gn/T/ipykernel_6825/2926853792.py:10: DeprecationWarning: ``qiskit.algorithms`` has been migrated to an independent package: https://github.com/qiskit-community/qiskit-algorithms. The ``qiskit.algorithms`` import path is deprecated as of qiskit-terra 0.25.0 and will be removed no earlier than 3 months after the release date. Please run ``pip install qiskit_algorithms`` and use ``import qiskit_algorithms`` instead.\n",
      "  from qiskit.algorithms import AmplitudeEstimation, EstimationProblem\n"
     ]
    }
   ],
   "source": [
    "import math\n",
    "import scipy\n",
    "import warnings\n",
    "\n",
    "import numpy as np\n",
    "\n",
    "from typing import Optional, Callable, Union, Tuple, List\n",
    "\n",
    "from qiskit import QuantumCircuit, QuantumRegister, AncillaRegister\n",
    "from qiskit.algorithms import AmplitudeEstimation, EstimationProblem\n",
    "from qiskit.primitives import Sampler\n",
    "from qiskit.quantum_info import Statevector\n",
    "from qiskit.circuit.library.arithmetic.exact_reciprocal import ExactReciprocal\n",
    "from qiskit.circuit.library import PhaseEstimation\n",
    "\n",
    "from qiskit.opflow import (\n",
    "    Z,\n",
    "    I,\n",
    "    StateFn,\n",
    "    TensoredOp,\n",
    "    ExpectationBase,\n",
    "    CircuitSampler,\n",
    "    ListOp,\n",
    "    ExpectationFactory,\n",
    "    ComposedOp,\n",
    ")\n",
    "\n",
    "from linear_solvers.observables.linear_system_observable import LinearSystemObservable\n",
    "from linear_solvers import LinearSolver, LinearSolverResult, NumPyLinearSolver\n",
    "from linear_solvers import HHL as TrueHHL\n",
    "from linear_solvers.matrices.numpy_matrix import NumPyMatrix"
   ]
  },
  {
   "cell_type": "code",
   "execution_count": 2,
   "id": "c0fe28f9-f1e3-40ff-a56b-d99e7710a783",
   "metadata": {},
   "outputs": [],
   "source": [
    "warnings.filterwarnings('ignore', category=DeprecationWarning)"
   ]
  },
  {
   "cell_type": "markdown",
   "id": "0e9d5565-b5e6-444d-a89c-27f53e41d3c4",
   "metadata": {},
   "source": [
    "# 1. State Preparation"
   ]
  },
  {
   "cell_type": "markdown",
   "id": "52ec7606-7b09-43fc-907c-626f23379c1f",
   "metadata": {
    "jp-MarkdownHeadingCollapsed": true
   },
   "source": [
    "## random_diag"
   ]
  },
  {
   "cell_type": "markdown",
   "id": "a5b23a4e-4cca-4b86-962f-e7e62d3225ab",
   "metadata": {},
   "source": [
    "Generate random diagonal matrix with given properties\n",
    "\n",
    "Borrowed from qiskit aqua.\n",
    "\n",
    "\n",
    "- **N** (int): size of matrix\n",
    "- **eigs** (Union(list, tuple, np.ndarray)): list of N eigenvalues. Overrides K, eigrange.\n",
    "- **K** (Union(float, list, tuple()): condition number. Either use only condition\n",
    "    number K or list/tuple of (K, lmin) or (K,\n",
    "    lmin, sgn). Where lmin is the smallest\n",
    "    eigenvalue and sign +/- 1 specifies if\n",
    "    eigenvalues can be negative.\n",
    "- **eigrange** (Union(list, tuple, nd.ndarray)): [min, max] list for eigenvalue\n",
    "                                           range. (default=[0, 1])\n",
    "\n",
    "**Raises** ValueError: invalid input data\n",
    "\n",
    "**Returns** np.ndarray: diagonal matrix"
   ]
  },
  {
   "cell_type": "code",
   "execution_count": 3,
   "id": "7f9d8ba0-0651-4fcf-a9dc-c9ad617c3ba8",
   "metadata": {},
   "outputs": [],
   "source": [
    "def random_diag(N, eigs=None, K=None, eigrange=None) -> np.ndarray:  # pylint: disable=invalid-name\n",
    "    # pylint: disable=invalid-name\n",
    "    eigrange = eigrange if eigrange is not None else [0, 1]\n",
    "    if not isinstance(eigs, np.ndarray):\n",
    "        if eigs is None:\n",
    "            if not isinstance(K, np.ndarray) and K is not None:\n",
    "                if isinstance(K, (int, float)):\n",
    "                    k, lmin, sgn = K, 1, 1\n",
    "                elif len(K) == 2:\n",
    "                    k, lmin = K\n",
    "                    sgn = 1\n",
    "                elif len(K) == 3:\n",
    "                    k, lmin, sgn = K\n",
    "                eigs = aqua_globals.random.random(N)\n",
    "                a = (k - 1) * lmin / (max(eigs) - min(eigs))\n",
    "                b = lmin * (max(eigs) - k * min(eigs)) / (max(eigs) - min(eigs))\n",
    "                eigs = a * eigs + b\n",
    "                if sgn == -1:\n",
    "                    sgs = np.random.random(N) - 0.5\n",
    "                    while min(sgs) > 0 or max(sgs) < 0:\n",
    "                        sgs = aqua_globals.random.random(N) - 0.5\n",
    "                    eigs = eigs * (sgs / abs(sgs))\n",
    "            elif isinstance(eigrange, (tuple, list, np.ndarray)) \\\n",
    "                    and len(eigrange) == 2:\n",
    "                eigs = \\\n",
    "                    np.random.random(N) * (eigrange[1] - eigrange[0]) + eigrange[0]\n",
    "            else:\n",
    "                raise ValueError(\"Wrong input data: either 'eigs', 'K' or\"\n",
    "                                 \"'eigrange' needed to be set correctly.\")\n",
    "        else:\n",
    "            assert len(eigs) == N, \"NxN matrix needs N eigenvalues.\"\n",
    "            eigs = np.array(list(eigs))\n",
    "    else:\n",
    "        assert len(eigs) == N, \"NxN matrix needs N eigenvalues.\"\n",
    "    return np.diag(eigs)"
   ]
  },
  {
   "cell_type": "code",
   "execution_count": 4,
   "id": "6291ee79-4b20-4022-8c16-91ae03fec910",
   "metadata": {},
   "outputs": [],
   "source": [
    "m = random_diag(2)\n",
    "\n",
    "assert m.shape == (2,2)\n",
    "assert m[1][0] == 0"
   ]
  },
  {
   "cell_type": "markdown",
   "id": "22676f7b-fc42-40d3-addc-0f2c909e7aba",
   "metadata": {
    "jp-MarkdownHeadingCollapsed": true
   },
   "source": [
    "## random_hermitian"
   ]
  },
  {
   "cell_type": "markdown",
   "id": "08d92ca8-ab32-4f2a-8cd3-aadbc3ff5fba",
   "metadata": {},
   "source": [
    "Generate random hermitian (sparse) matrix with given properties. Sparsity is\n",
    "achieved by truncating Pauli matrices. Sparsity settings alternate the\n",
    "eigenvalues due to truncation.\n",
    "\n",
    "Borrowed from qiskit aqua.\n",
    "\n",
    "- **N** (int): size of matrix\n",
    "- **eigs** (Union(list, tuple, np.ndarray)): list of N eigenvalues. Overrides K, eigrange\n",
    "- **K** (Union(float, list, tuple)): condition number. Either use only condition\n",
    "    number K or list/tuple of (K, lmin) or (K,\n",
    "    lmin, sgn). Where lmin is the smallest\n",
    "    eigenvalue and sign +/- 1 specifies if\n",
    "    eigenvalues can be negative.\n",
    "- **eigrange** (Union(list, tuple, nd.ndarray)): [min, max] list for eigenvalue\n",
    "                                           range. (default=[0, 1])\n",
    "- **trunc** (int): limit for number of Pauli matrices.\n",
    "- **sparsity** (float): sparsity of matrix. Overrides trunc.\n",
    "\n",
    "**raises**: ValueError: invalid matrix\n",
    "\n",
    "**returns** np.ndarray: hermitian matrix"
   ]
  },
  {
   "cell_type": "code",
   "execution_count": 5,
   "id": "6a613ff0-bba3-4f4b-a2b6-232c01af55fb",
   "metadata": {},
   "outputs": [],
   "source": [
    "def random_hermitian(N, eigs=None, K=None,  # pylint: disable=invalid-name\n",
    "                     eigrange=None, sparsity=None,\n",
    "                     trunc=None) -> np.ndarray:\n",
    "    \n",
    "    # pylint: disable=invalid-name\n",
    "    eigrange = eigrange if eigrange is not None else [0, 1]\n",
    "    if N == 1:\n",
    "        raise ValueError('The matrix dimension must be larger than 1')\n",
    "    u = scipy.stats.unitary_group.rvs(N)\n",
    "    d = random_diag(N, eigs, K, eigrange)\n",
    "    ret = u.conj().T.dot(d).dot(u)\n",
    "    if sparsity or trunc:\n",
    "        ret = limit_paulis(ret, trunc, sparsity)\n",
    "    return ret"
   ]
  },
  {
   "cell_type": "code",
   "execution_count": 6,
   "id": "753f2531-1e4c-41dd-a193-3028f073bdc4",
   "metadata": {},
   "outputs": [],
   "source": [
    "m = random_hermitian(2)\n",
    "assert m.shape == (2,2)\n",
    "assert scipy.linalg.ishermitian(m,atol=5e-11)"
   ]
  },
  {
   "cell_type": "markdown",
   "id": "c2ea9ef5-6dc6-4f4d-a0fe-863f72dc24e8",
   "metadata": {
    "jp-MarkdownHeadingCollapsed": true
   },
   "source": [
    "## resize_matrix"
   ]
  },
  {
   "cell_type": "markdown",
   "id": "a9301c4c-c753-4f9f-9480-cb803b5a5c32",
   "metadata": {},
   "source": [
    "Resizes the matrix to match the appropriate dimensionality. Fills in the new cells with zeros.\n",
    "\n",
    "- **matrix** np.ndarray: Square ($N \\times N$) or vector (1xN)\n",
    "- **n** int: The desired dimensionality in $2^n$\n",
    "- **verbose** bool: Verbosity\n",
    "\n",
    "**returns** np.ndarray: Resized matrix $2^n \\times 2^n$"
   ]
  },
  {
   "cell_type": "code",
   "execution_count": 7,
   "id": "c15d72d9-79e8-41b9-8ef4-fd68b4491551",
   "metadata": {},
   "outputs": [],
   "source": [
    "def resize_matrix(matrix: np.ndarray, n: int, verbose: bool = False) -> np.ndarray:\n",
    "    dim = 2 ** n\n",
    "\n",
    "    assert matrix.ndim <= 2, \"Currently, only 2-Dimensional arrays or lower are supported.\"\n",
    "\n",
    "    if verbose:\n",
    "        print(\"Dimensions: \", matrix.ndim)\n",
    "\n",
    "    # Not square or vector\n",
    "    # if matrix.ndim >= 2:\n",
    "    #     assert (matrix.shape[0] == matrix.shape[1] and (matrix.shape[0] == 1 or matrix.shape[1] == 1)), \"Matrix is not square or vector\"\n",
    "    # else:\n",
    "\n",
    "    # Check if shape is (1, 2^n) or (2^n, 2^n)\n",
    "    # n,m = matrix.shape\n",
    "    new_shape = tuple(dim for _ in range(matrix.ndim))\n",
    "    R = np.empty(new_shape)\n",
    "    X=matrix\n",
    "    \n",
    "    if matrix.ndim == 1:\n",
    "        R[:X.shape[0]] = X[:R.shape[0]]\n",
    "    elif matrix.ndim == 2:\n",
    "        R[:X.shape[0],:X.shape[1]] = X[:R.shape[0],:R.shape[1]]\n",
    "    # matrix = np.resize(matrix, [dim for _ in range(matrix.ndim)])\n",
    "\n",
    "    return R\n",
    "\n",
    "    # np.resize(matrix,)"
   ]
  },
  {
   "cell_type": "code",
   "execution_count": 8,
   "id": "ddda5422-ddb5-4ba0-8e8d-8b8fd55cd248",
   "metadata": {},
   "outputs": [],
   "source": [
    "test_vector = np.ones(2)\n",
    "test_m2 = np.ones((2,2))\n",
    "test_m3 = np.ones((3,3))\n",
    "\n",
    "assert np.shape(resize_matrix(test_vector, 1)) == test_vector.shape # Test no changes\n",
    "assert np.shape(resize_matrix(test_vector, 2)) == (2**2,) # Test 2**2\n",
    "\n",
    "assert resize_matrix(test_m2, 1).shape == test_m2.shape\n",
    "assert resize_matrix(test_m2, 2).shape == (4,4)\n",
    "\n",
    "assert resize_matrix(test_m3, 2).shape == (4,4)\n",
    "\n",
    "assert resize_matrix(test_m2, 4).shape == (2**4, 2**4)"
   ]
  },
  {
   "cell_type": "markdown",
   "id": "21c008f3-76ed-48d8-b863-8a000c961d1c",
   "metadata": {
    "jp-MarkdownHeadingCollapsed": true
   },
   "source": [
    "## calc_qubits"
   ]
  },
  {
   "cell_type": "markdown",
   "id": "595358dc-43fe-48d8-9ea3-8cc76fb5f827",
   "metadata": {},
   "source": [
    "Given a vector, calculates the number of qubits needed to encode it into a circuit."
   ]
  },
  {
   "cell_type": "code",
   "execution_count": 9,
   "id": "ce36ef35-ce2e-47aa-a7e1-025638272156",
   "metadata": {},
   "outputs": [],
   "source": [
    "def calc_qubits(vector: np.ndarray) -> int:\n",
    "    return math.ceil(np.log2(len(vector)))"
   ]
  },
  {
   "cell_type": "code",
   "execution_count": 10,
   "id": "f02e846f-2f88-46d8-899c-e13c12c1d52c",
   "metadata": {},
   "outputs": [],
   "source": [
    "assert calc_qubits([0, 0]) == 1\n",
    "assert calc_qubits([0,0,0]) == 2\n",
    "assert calc_qubits([0,0,0,0,0]) == 3"
   ]
  },
  {
   "cell_type": "markdown",
   "id": "6fdef3de-5102-4f9d-afbf-3d9edfa50898",
   "metadata": {
    "jp-MarkdownHeadingCollapsed": true
   },
   "source": [
    "## AE_Circuit"
   ]
  },
  {
   "cell_type": "markdown",
   "id": "b28e43c5-d661-4d4e-b4ef-f1f085306f0b",
   "metadata": {},
   "source": [
    "Amplitude Encoding Circuit.\n",
    "\n",
    "- **vector** np.ndarray: Vector $b$.\n",
    "- **nb** int: number of qubits to represent the vector. Optional, and will be calculated otherwise.\n",
    "- **verbose** bool: Verbosity\n",
    "\n",
    "**Returns** QuantumCircuit: the quantum circuit representing the amplitude encoding of the vector."
   ]
  },
  {
   "cell_type": "code",
   "execution_count": 11,
   "id": "cc96a99d-5091-4b8c-bdcf-067c9a76658b",
   "metadata": {},
   "outputs": [],
   "source": [
    "def AE_Circuit(vector: np.ndarray, nb: int = None, verbose: bool = False) -> QuantumCircuit:\n",
    "    if nb is None:\n",
    "        nb = calc_qubits(vector)\n",
    "\n",
    "        if verbose:\n",
    "            print(f\"Number of Qubits: {nb}\")\n",
    "\n",
    "    if len(vector) != 2**nb:\n",
    "        vector = resize_matrix(vector, nb, verbose=verbose)\n",
    "\n",
    "    vector_circuit = QuantumCircuit(nb)\n",
    "\n",
    "    isometry = vector / np.linalg.norm(vector)\n",
    "\n",
    "    if verbose:\n",
    "        print(\"Isometry: \", isometry)\n",
    "\n",
    "    vector_circuit.isometry(\n",
    "        isometry, list(range(nb)), None\n",
    "    )\n",
    "\n",
    "    vector_circuit.name = \"Amplitude Encoding\"\n",
    "        \n",
    "    return vector_circuit\n",
    "    "
   ]
  },
  {
   "cell_type": "code",
   "execution_count": 12,
   "id": "b5c228c6-4c5b-4e17-a8e5-6280eb88f985",
   "metadata": {},
   "outputs": [],
   "source": [
    "assert AE_Circuit(np.array([1, 0])).num_qubits == 1\n",
    "assert AE_Circuit(np.array([1,0.1,1])).num_qubits == 2\n",
    "assert AE_Circuit(np.array([1,0,1,0.2,0.3])).num_qubits == 3"
   ]
  },
  {
   "cell_type": "markdown",
   "id": "4d44fbfa-f0b0-4801-8a13-0accbcfada8d",
   "metadata": {
    "jp-MarkdownHeadingCollapsed": true
   },
   "source": [
    "# 2. Quantum Phase Estimation"
   ]
  },
  {
   "cell_type": "markdown",
   "id": "4819394c-c548-4c27-a120-2ead0b2b6eb7",
   "metadata": {
    "jp-MarkdownHeadingCollapsed": true
   },
   "source": [
    "## create_matrix_circuit"
   ]
  },
  {
   "cell_type": "markdown",
   "id": "c977dbf1-4d16-426c-bd50-c7c729cb5757",
   "metadata": {},
   "source": [
    "\n",
    "- **matrix** np.ndarray: Input matrix $A$. Should be a square hermitian\n",
    "- **number_qubits** int: The expected number of qubits for the circuit\n",
    "\n",
    "**Returns**: A QuantumCircuit representing the matrix A."
   ]
  },
  {
   "cell_type": "code",
   "execution_count": 13,
   "id": "ec6653db-66ce-4206-8eff-a20c53c828d0",
   "metadata": {},
   "outputs": [],
   "source": [
    "def create_matrix_circuit(matrix: np.ndarray, number_qubits: int) -> QuantumCircuit:\n",
    "    if isinstance(matrix, list):\n",
    "        matrix = np.array(matrix)\n",
    "\n",
    "    if matrix.shape[0] != matrix.shape[1]:\n",
    "        raise ValueError(\"Input matrix must be square!\")\n",
    "    if np.log2(matrix.shape[0]) % 1 != 0:\n",
    "        raise ValueError(\"Input matrix dimension must be 2^n!\")\n",
    "    if not np.allclose(matrix, matrix.conj().T):\n",
    "        raise ValueError(\"Input matrix must be hermitian!\")\n",
    "    if matrix.shape[0] != 2**number_qubits:\n",
    "        raise ValueError(\n",
    "            \"Input vector dimension does not match input \"\n",
    "            \"matrix dimension! Vector dimension: \"\n",
    "            + str(number_qubits)\n",
    "            + \". Matrix dimension: \"\n",
    "            + str(matrix.shape[0])\n",
    "        )\n",
    "    matrix_circuit = NumPyMatrix(matrix, evolution_time=2 * np.pi)\n",
    "\n",
    "    return matrix_circuit"
   ]
  },
  {
   "cell_type": "code",
   "execution_count": 14,
   "id": "549c0737-f86d-4f86-a9b4-a36f84db6dec",
   "metadata": {},
   "outputs": [
    {
     "name": "stdout",
     "output_type": "stream",
     "text": [
      "       ┌─────────────┐\n",
      "state: ┤ circuit-130 ├\n",
      "       └─────────────┘\n",
      "         ┌──────────────┐\n",
      "state_0: ┤0             ├\n",
      "         │  circuit-134 │\n",
      "state_1: ┤1             ├\n",
      "         └──────────────┘\n",
      "         ┌──────────────┐\n",
      "state_0: ┤0             ├\n",
      "         │              │\n",
      "state_1: ┤1 circuit-138 ├\n",
      "         │              │\n",
      "state_2: ┤2             ├\n",
      "         └──────────────┘\n"
     ]
    }
   ],
   "source": [
    "for i in [1, 2, 3]:\n",
    "    n = 2**i\n",
    "    m = np.round(np.random.random((n,n)) * 10,2)\n",
    "    m = m + m.conj().T\n",
    "    num_bits = calc_qubits(m)\n",
    "\n",
    "    circuit = create_matrix_circuit(m, num_bits)\n",
    "\n",
    "    assert(circuit.num_qubits == num_bits)\n",
    "\n",
    "    print(circuit)\n",
    "\n",
    "# Test non-hermitian\n",
    "m = np.round(np.random.random((2,2)) * 10,2)\n",
    "try:\n",
    "    create_matrix_circuit(m, 2)\n",
    "except ValueError as e:\n",
    "    assert str(e) == \"Input matrix must be hermitian!\""
   ]
  },
  {
   "cell_type": "markdown",
   "id": "52d5378e-f039-44ef-b391-265b13430536",
   "metadata": {
    "jp-MarkdownHeadingCollapsed": true
   },
   "source": [
    "## calculate_nl"
   ]
  },
  {
   "cell_type": "markdown",
   "id": "1815d2b8-7ca8-46df-bc3d-f3607a07472c",
   "metadata": {},
   "source": [
    "Update the number of qubits required to represent the eigenvalues\n",
    "\n",
    "$$e^{-2 \\pi i \\lambda} = e^{2 \\pi i (1 - \\lambda)}$$\n",
    "\n",
    "- **number_bits** int: The number of qubits to represent the eigenvalues.\n",
    "- **kappa** float:\n",
    "- **neg_vals** float: To register negative eigenvalus. Default true\n",
    "\n",
    "**Returns** float: The value of the scaling factor."
   ]
  },
  {
   "cell_type": "code",
   "execution_count": 15,
   "id": "6a577365-9fd9-41f4-880b-54f216c36960",
   "metadata": {},
   "outputs": [],
   "source": [
    "def calculate_nl(number_bits: int, kappa: float, neg_vals: bool = True):\n",
    "    nl = max(number_bits + 1, int(np.ceil(np.log2(kappa + 1)))) + neg_vals\n",
    "    return nl"
   ]
  },
  {
   "cell_type": "code",
   "execution_count": 16,
   "id": "19f60335-2482-4bc0-92be-e38e06988626",
   "metadata": {},
   "outputs": [],
   "source": [
    "# Testing"
   ]
  },
  {
   "cell_type": "markdown",
   "id": "39ab3f57-86b9-4dff-a170-3ae48dc3bd34",
   "metadata": {
    "jp-MarkdownHeadingCollapsed": true
   },
   "source": [
    "## get_delta"
   ]
  },
  {
   "cell_type": "markdown",
   "id": "70d35a24-ddcf-4949-ae45-afe8cfa4fd2f",
   "metadata": {},
   "source": [
    "Calculates the scaling factor to represent exactly $\\lambda_{min}$ on $n_l$ binary digits.\n",
    "\n",
    "- **n_l** int: The number of qubits to represent the eigenvalues.\n",
    "- **lambda_min** float: the smallest eigenvalue.\n",
    "- **lambda_max** float: the largest eigenvalue.\n",
    "\n",
    "**Returns** float: The value of the scaling factor."
   ]
  },
  {
   "cell_type": "code",
   "execution_count": 17,
   "id": "3edacdf9-5fb2-4f98-89c7-d53af2bbc93b",
   "metadata": {},
   "outputs": [],
   "source": [
    "def get_delta(n_l: int, lambda_min: float, lambda_max: float) -> float:\n",
    "    formatstr = \"#0\" + str(n_l + 2) + \"b\"\n",
    "    lambda_min_tilde = np.abs(lambda_min * (2**n_l - 1) / lambda_max)\n",
    "    # floating point precision can cause problems\n",
    "    if np.abs(lambda_min_tilde - 1) < 1e-7:\n",
    "        lambda_min_tilde = 1\n",
    "    binstr = format(int(lambda_min_tilde), formatstr)[2::]\n",
    "    lamb_min_rep = 0\n",
    "    \n",
    "    for i, char in enumerate(binstr):\n",
    "        lamb_min_rep += int(char) / (2 ** (i + 1))\n",
    "    return lamb_min_rep"
   ]
  },
  {
   "cell_type": "code",
   "execution_count": 18,
   "id": "f5831bd5-fd83-4561-b037-5aeed1641a01",
   "metadata": {},
   "outputs": [],
   "source": [
    "# Testing"
   ]
  },
  {
   "cell_type": "markdown",
   "id": "30be01ce-ce3f-4a02-a633-1cdcda2cf7a2",
   "metadata": {
    "jp-MarkdownHeadingCollapsed": true
   },
   "source": [
    "## get_kappa"
   ]
  },
  {
   "cell_type": "markdown",
   "id": "8ab41f35-1411-4e5a-b21b-9e8d3b02914e",
   "metadata": {},
   "source": [
    "Calculates/retrieves the kappa value for the circuit.\n",
    "\n",
    "- **matrix_circuit** QuantumCircuit: The quantum circuit representing $A$.\n",
    "\n",
    "**Returns** float: the kappa value"
   ]
  },
  {
   "cell_type": "code",
   "execution_count": 19,
   "id": "6067c457-38ea-426a-97ba-ab21165f1a76",
   "metadata": {},
   "outputs": [],
   "source": [
    "def get_kappa(matrix_circuit: QuantumCircuit) -> float:\n",
    "    if (\n",
    "        hasattr(matrix_circuit, \"condition_bounds\")\n",
    "        and matrix_circuit.condition_bounds() is not None\n",
    "    ):\n",
    "        kappa = matrix_circuit.condition_bounds()[1]\n",
    "    else:\n",
    "        kappa = 1\n",
    "\n",
    "    return kappa"
   ]
  },
  {
   "cell_type": "code",
   "execution_count": 20,
   "id": "ea5f0c06-9e3c-4135-acd9-0f4c1b8340dd",
   "metadata": {},
   "outputs": [],
   "source": [
    "# Testing"
   ]
  },
  {
   "cell_type": "markdown",
   "id": "c3549b3a-8ffd-4b0c-803d-18bec854ee0c",
   "metadata": {
    "jp-MarkdownHeadingCollapsed": true
   },
   "source": [
    "## set_eigenbounds"
   ]
  },
  {
   "cell_type": "markdown",
   "id": "bfee9577-b33a-4dd5-a734-0667a70b8b9d",
   "metadata": {},
   "source": [
    "Calculates and sets the eigenbounds for the encoded matrix circuit.\n",
    "\n",
    "- **matrix_circuit** QuantumCircuit: The quantum circuit representing $A$.\n",
    "- **nl** int: Adjusted number of qubits for the A circuit.\n",
    "- **neg_vals** bool: Whether to allow negative values.\n",
    "\n",
    "**Returns** Tuple[QuantumCircuit, float, float]: Returns the updated matrix circuit, the delta, and the scaling values"
   ]
  },
  {
   "cell_type": "code",
   "execution_count": 21,
   "id": "889460cb-69f4-404a-8cd9-2481b4367343",
   "metadata": {},
   "outputs": [],
   "source": [
    "def set_eigenbounds(matrix_circuit: QuantumCircuit, nl: int, neg_vals: bool = True) -> Tuple[QuantumCircuit, float, float]:\n",
    "    if (hasattr(matrix_circuit, \"eigs_bounds\") and matrix_circuit.eigs_bounds() is not None):\n",
    "        \n",
    "        lambda_min, lambda_max = matrix_circuit.eigs_bounds()\n",
    "        # Constant so that the minimum eigenvalue is represented exactly, since it contributes\n",
    "        # the most to the solution of the system. -1 to take into account the sign qubit\n",
    "        delta = get_delta(nl - neg_vals, lambda_min, lambda_max)\n",
    "        # Update evolution time\n",
    "        matrix_circuit.evolution_time = (\n",
    "            2 * np.pi * delta / lambda_min / (2**neg_vals)\n",
    "        )\n",
    "        # Update the scaling of the solution\n",
    "        scaling = lambda_min\n",
    "    else:\n",
    "        delta = 1 / (2**nl)\n",
    "        scaling = 1\n",
    "        print(\"The solution will be calculated up to a scaling factor.\")\n",
    "\n",
    "    return matrix_circuit, delta, scaling\n"
   ]
  },
  {
   "cell_type": "code",
   "execution_count": 22,
   "id": "2946a09a-0457-40a6-9340-5f715271d993",
   "metadata": {},
   "outputs": [],
   "source": [
    "# Testing"
   ]
  },
  {
   "cell_type": "markdown",
   "id": "9624ac25-6700-404b-9bee-229d4131b46f",
   "metadata": {
    "jp-MarkdownHeadingCollapsed": true
   },
   "source": [
    "## calculate_norm"
   ]
  },
  {
   "cell_type": "markdown",
   "id": "2a6372f8-1c5f-47bb-9676-54eff88ab3c3",
   "metadata": {},
   "source": [
    "Calculates the value of the euclidean norm of the solution.\n",
    "\n",
    "- **qc** QuantumCircuit: The quantum circuit preparing the solution x to the system.\n",
    "- **scaling** float: Scaling factor of the norm\n",
    "\n",
    "**Returns** float: The value of the euclidean norm of the solution."
   ]
  },
  {
   "cell_type": "code",
   "execution_count": 23,
   "id": "98fcb7e1-95d3-44c4-9cbb-a591f65828c3",
   "metadata": {},
   "outputs": [],
   "source": [
    "def calculate_norm(qc: QuantumCircuit, scaling: float) -> float:\n",
    "    # Calculate the number of qubits\n",
    "    nb = qc.qregs[0].size\n",
    "    nl = qc.qregs[1].size\n",
    "    na = qc.num_ancillas\n",
    "\n",
    "    # Create the Operators Zero and One\n",
    "    zero_op = (I + Z) / 2\n",
    "    one_op = (I - Z) / 2\n",
    "\n",
    "    # Norm observable\n",
    "    observable = one_op ^ TensoredOp((nl + na) * [zero_op]) ^ (I ^ nb)\n",
    "    norm_2 = (~StateFn(observable) @ StateFn(qc)).eval()\n",
    "\n",
    "    return np.real(np.sqrt(norm_2) / scaling)"
   ]
  },
  {
   "cell_type": "code",
   "execution_count": 24,
   "id": "1ea8a045-ee3c-49e6-8f9b-5fe2e1217499",
   "metadata": {},
   "outputs": [],
   "source": [
    "# Testing"
   ]
  },
  {
   "cell_type": "markdown",
   "id": "27d799e8-ff93-4b5c-b181-f29d979c41e2",
   "metadata": {},
   "source": [
    "# 3. Production"
   ]
  },
  {
   "cell_type": "markdown",
   "id": "0fbd3688-efe0-4498-b7c0-cca2d0c3e127",
   "metadata": {},
   "source": [
    "## construct_circuit"
   ]
  },
  {
   "cell_type": "markdown",
   "id": "c4220807-2ac0-4f9c-ad4a-38328d45c1de",
   "metadata": {},
   "source": [
    "Constructs the HHL circuit using \n",
    "- <a href=\"#calc_qubits\">calc_qubits</a>: Calculating the number of qubits\n",
    "- <a href=\"#create_matrix_circuit\">create_matrix_circuit</a>: Creating and encoding the matrix circuit\n",
    "- <a href=\"#get_kappa\">get_kappa</a>: Calculates Kappa\n",
    "- <a href=\"#create_matrix_circuit\">create_matrix_circuit</a>: Encodes $A$ into a circuit\n",
    "- <a href=\"#set_eigenbounds\">set_eigenbounds</a>: Recalculates eigenbounds\n",
    "- <a href=\"#calculate_nl\">calculate_nl</a>: Recalculates $n_l$.\n",
    "\n",
    "Using these supporting functions, construct_circuit encodes the data from the inputs and creates the QPE as well as rotaional circuits.\n",
    "\n",
    "- **A** np.ndarray: Input matrix $A$. Should be a square hermitian\n",
    "- **b** np.ndarray: Input vector $b$.\n",
    "- **neg_vals** bool: Whether to allow negative eigenvalues.\n",
    "- **nf** int: Number of flag qubits.\n",
    "- **epsilon** flaot: Error threshold\n",
    "\n",
    "**Returns** QuantumCircuit: The HHL Circuit"
   ]
  },
  {
   "cell_type": "code",
   "execution_count": 25,
   "id": "3c63a2e7-048a-4166-b692-495606cb216e",
   "metadata": {},
   "outputs": [],
   "source": [
    "def construct_circuit(A: np.ndarray, b: np.ndarray, neg_vals: bool = True, nf: int = 1, epsilon: float = 1e-2) -> QuantumCircuit:\n",
    "    _epsilon_r = epsilon / 3  # conditioned rotation\n",
    "    _epsilon_s = epsilon / 3  # state preparation\n",
    "    _epsilon_a = epsilon / 6  # hamiltonian simulation\n",
    "\n",
    "    nb = calc_qubits(b)\n",
    "    \n",
    "    ae = AE_Circuit(b, nb, verbose=True)\n",
    "    print(ae)\n",
    "\n",
    "    matrix_circuit = create_matrix_circuit(A, ae.num_qubits) #???\n",
    "\n",
    "    kappa = get_kappa(matrix_circuit)\n",
    "    \n",
    "    nl = calculate_nl(nb, kappa)\n",
    "\n",
    "    if hasattr(matrix_circuit, \"tolerance\"):\n",
    "        matrix_circuit.tolerance = _epsilon_a\n",
    "\n",
    "    matrix_circuit, delta, scaling = set_eigenbounds(matrix_circuit, nl)\n",
    "\n",
    "    phase_estimation = PhaseEstimation(nl, matrix_circuit)\n",
    "\n",
    "    reciprocal_circuit = ExactReciprocal(nl, delta, neg_vals=neg_vals)\n",
    "    reciprocal_circuit.name = \"Conditional Rotation\"\n",
    "    # Update number of ancilla qubits\n",
    "    na = matrix_circuit.num_ancillas\n",
    "\n",
    "    # check if the matrix can calculate bounds for the eigenvalues\n",
    "\n",
    "    # Initialise the quantum registers\n",
    "    qb = QuantumRegister(nb)  # right hand side and solution\n",
    "    ql = QuantumRegister(nl)  # eigenvalue evaluation qubits\n",
    "    if na > 0:\n",
    "        qa = AncillaRegister(na)  # ancilla qubits\n",
    "    qf = QuantumRegister(nf)  # flag qubits\n",
    "\n",
    "    if na > 0:\n",
    "        qc = QuantumCircuit(qb, ql, qa, qf)\n",
    "    else:\n",
    "        qc = QuantumCircuit(qb, ql, qf)\n",
    "    \n",
    "    # State preparation\n",
    "    qc.append(ae, qb[:])\n",
    "    \n",
    "    # QPE\n",
    "    if na > 0:\n",
    "        qc.append(phase_estimation, ql[:] + qb[:] + qa[: matrix_circuit.num_ancillas])\n",
    "    else:\n",
    "        qc.append(phase_estimation, ql[:] + qb[:])\n",
    "\n",
    "    # Coditional Rotation\n",
    "    qc.append(reciprocal_circuit, ql[::-1] + [qf[0]])\n",
    "\n",
    "    # QPE inverse\n",
    "    if na > 0:\n",
    "        qc.append(\n",
    "            phase_estimation.inverse(),\n",
    "            ql[:] + qb[:] + qa[: matrix_circuit.num_ancillas],\n",
    "        )\n",
    "    else:\n",
    "        qc.append(phase_estimation.inverse(), ql[:] + qb[:])\n",
    "    return qc, scaling"
   ]
  },
  {
   "cell_type": "code",
   "execution_count": 26,
   "id": "6241aee4-97c0-416f-8717-55aeb9e9400d",
   "metadata": {},
   "outputs": [],
   "source": [
    "# Testing"
   ]
  },
  {
   "cell_type": "markdown",
   "id": "17a89fd5-9bbf-4666-a2f3-d04ece3042ed",
   "metadata": {},
   "source": [
    "## HHL"
   ]
  },
  {
   "cell_type": "markdown",
   "id": "943875ab-4752-4185-8349-1e136da120c2",
   "metadata": {},
   "source": [
    "Creates the HHL circuit (<a href=\"#construct_circuit\">construct_circuit</a>), calculates the norm (<a href=\"#calculate_norm\">calculate_norm</a>), and returns a linear solver result.\n",
    "\n",
    "- **A** np.ndarray: Input matrix $A$. Should be a square hermitian\n",
    "- **b** np.ndarray: Input vector $b$.\n",
    "- **neg_vals** bool: Whether to allow negative eigenvalues.\n",
    "- **nf** int: Number of flag qubits.\n",
    "- **epsilon** flaot: Error threshold\n",
    "\n",
    "**Returns** LinearSolverResult: The HHL Solution"
   ]
  },
  {
   "cell_type": "code",
   "execution_count": 27,
   "id": "dc781e67-d9e0-45fc-95e2-347116bd6086",
   "metadata": {},
   "outputs": [],
   "source": [
    "def HHL(A: np.ndarray, b: np.ndarray, neg_vals: bool = True, nf: int = 1, epsilon: float = 1e-2) -> LinearSolverResult:\n",
    "    qc, scaling = construct_circuit(A, b, neg_vals, nf, epsilon)\n",
    "\n",
    "    norm = calculate_norm(qc, scaling)\n",
    "\n",
    "    sol = LinearSolverResult()\n",
    "    \n",
    "    sol.state = qc\n",
    "    sol.euclidean_norm = norm\n",
    "\n",
    "    return sol"
   ]
  },
  {
   "cell_type": "code",
   "execution_count": 28,
   "id": "3a37ae11-19f7-4e17-afae-552805fa3a18",
   "metadata": {},
   "outputs": [
    {
     "name": "stdout",
     "output_type": "stream",
     "text": [
      "Isometry:  [1. 0.]\n",
      "   ┌──────────┐\n",
      "q: ┤ Isometry ├\n",
      "   └──────────┘\n",
      "Isometry:  [1. 0.]\n",
      "   ┌──────────┐\n",
      "q: ┤ Isometry ├\n",
      "   └──────────┘\n"
     ]
    }
   ],
   "source": [
    "A = np.array([\n",
    "    [1, -1/3],\n",
    "    [-1/3, 1]\n",
    "])\n",
    "\n",
    "b = np.array([1, 0])\n",
    "\n",
    "assert HHL(A,b)\n",
    "sol = HHL(A, b)\n",
    "assert round(sol.euclidean_norm,2) == 1.19"
   ]
  },
  {
   "cell_type": "markdown",
   "id": "7f6a9c2b-2e7b-4d92-a89b-12bb6d525e38",
   "metadata": {},
   "source": [
    "## compute_x"
   ]
  },
  {
   "cell_type": "markdown",
   "id": "e8787e2d-0e0c-45ba-86ac-88a00e9f040e",
   "metadata": {},
   "source": [
    "Computes the $x$ vector given the stored linear solver result.\n",
    "\n",
    "- **naive_hhl_solution** LinearSolverResult: Linear Solver result which contains the circuit and data.\n",
    "- **verbose** bool: Verbosity\n",
    "\n",
    "**Returns** np.ndarray: The $x$ vector"
   ]
  },
  {
   "cell_type": "code",
   "execution_count": 29,
   "id": "e9311728-df24-41a8-9c17-e905313cb0f2",
   "metadata": {},
   "outputs": [],
   "source": [
    "def compute_x(naive_hhl_solution: LinearSolverResult, verbose: bool = False) -> np.ndarray:\n",
    "\n",
    "    naive_sv = Statevector(naive_hhl_solution.state).data\n",
    "    \n",
    "    # Extract vector components; 10000(bin) == 16 & 10001(bin) == 17\n",
    "    naive_full_vector = np.array([naive_sv[16], naive_sv[17] ])\n",
    "\n",
    "    if verbose:\n",
    "        print('naive raw solution vector:', naive_full_vector)\n",
    "\n",
    "    def get_solution_vector(solution):\n",
    "        \"\"\"Extracts and normalizes simulated state vector\n",
    "        from LinearSolverResult.\"\"\"\n",
    "        solution_vector = Statevector(solution.state).data[16:18].real\n",
    "        norm = solution.euclidean_norm\n",
    "        return norm * solution_vector / np.linalg.norm(solution_vector)\n",
    "\n",
    "    solution = get_solution_vector(naive_hhl_solution)\n",
    "    if verbose:\n",
    "        print('full naive solution vector:', solution)\n",
    "\n",
    "    return solution"
   ]
  },
  {
   "cell_type": "code",
   "execution_count": 30,
   "id": "dbc5452f-b3a4-4e1c-af0f-905abc81b552",
   "metadata": {},
   "outputs": [],
   "source": [
    "# Testing"
   ]
  },
  {
   "cell_type": "markdown",
   "id": "44a8acab-faf0-4e73-9e49-552fdacaafe0",
   "metadata": {},
   "source": [
    "## hhl_solver"
   ]
  },
  {
   "cell_type": "markdown",
   "id": "67f36c17-7a64-4807-91d2-f473e051478c",
   "metadata": {},
   "source": [
    "Creates the HHL circuit (<a href=\"#construct_circuit\">construct_circuit</a>), calculates the norm (<a href=\"#calculate_norm\">calculate_norm</a>), and returns a linear solver result.\n",
    "\n",
    "- **A** np.ndarray: Input matrix $A$. Should be a square hermitian\n",
    "- **b** np.ndarray: Input vector $b$.\n",
    "- **neg_vals** bool: Whether to allow negative eigenvalues.\n",
    "- **nf** int: Number of flag qubits.\n",
    "- **epsilon** flaot: Error threshold\n",
    "\n",
    "**Returns** np.ndarray: The $x$ vector"
   ]
  },
  {
   "cell_type": "code",
   "execution_count": 31,
   "id": "f43c92e5-5db6-44ac-bc82-7e3fc5ea6af6",
   "metadata": {},
   "outputs": [],
   "source": [
    "def hhl_solver(A: np.ndarray, b: np.ndarray, neg_vals: bool = True, nf: int = 1, epsilon: float = 1e-2) -> np.ndarray:\n",
    "\n",
    "    solution = HHL(\n",
    "        A=A, \n",
    "        b=b,\n",
    "        neg_vals=neg_vals,\n",
    "        nf=nf,\n",
    "        epsilon=epsilon\n",
    "    )\n",
    "\n",
    "    return compute_x(solution)"
   ]
  },
  {
   "cell_type": "code",
   "execution_count": 32,
   "id": "b10f4b2e-3d52-4d51-b497-7396c4471e2d",
   "metadata": {},
   "outputs": [],
   "source": [
    "# Testing"
   ]
  },
  {
   "cell_type": "markdown",
   "id": "609eccb0-1838-453a-a73b-e2e60d30aeb8",
   "metadata": {},
   "source": [
    "# 4. Testing"
   ]
  },
  {
   "cell_type": "markdown",
   "id": "c2ebf5b8-477a-4351-ac87-8314717d1eaa",
   "metadata": {},
   "source": [
    "Now that the functions for the HHL algorithm are defined, I can run it on a number of test cases"
   ]
  },
  {
   "cell_type": "code",
   "execution_count": 33,
   "id": "5cc295d7-bb7b-40c0-92a7-a74ac7745dcb",
   "metadata": {},
   "outputs": [
    {
     "name": "stdout",
     "output_type": "stream",
     "text": [
      "[[ 0.57450281 -0.08154984]\n",
      " [-0.08154984  0.83999027]]\n",
      "[array([1.125, 0.375]), array([1.7688714 , 0.36976202])]\n"
     ]
    }
   ],
   "source": [
    "a_tests = [\n",
    "    np.array([ [1, -1/3], [-1/3, 1] ])\n",
    "]\n",
    "\n",
    "b_tests = [\n",
    "    np.array([1, 0])\n",
    "]\n",
    "\n",
    "x_tests = [\n",
    "    np.array([1.125, 0.375])\n",
    "]\n",
    "\n",
    "for n in 2**np.array([1]):\n",
    "    a = random_hermitian(n).real\n",
    "    b = np.round(np.random.random(n) * 10,2)\n",
    "\n",
    "    print(a)\n",
    "\n",
    "    # Norm b\n",
    "    b = b / np.linalg.norm(b)\n",
    "\n",
    "    x = np.linalg.solve(a,b)\n",
    "\n",
    "    assert np.allclose(np.dot(a, x), b)\n",
    "\n",
    "    a_tests.append(a)\n",
    "    b_tests.append(b)\n",
    "    x_tests.append(x)\n",
    "print(x_tests)"
   ]
  },
  {
   "cell_type": "code",
   "execution_count": 34,
   "id": "874be8a0-7d0d-45ab-be72-822f031d1816",
   "metadata": {},
   "outputs": [
    {
     "name": "stdout",
     "output_type": "stream",
     "text": [
      "LinSolver Answer:  [1.125 0.375]\n",
      "Isometry:  [1. 0.]\n",
      "   ┌──────────┐\n",
      "q: ┤ Isometry ├\n",
      "   └──────────┘\n",
      "X:  [1.125 0.375]\n",
      "Answer:  [1.125 0.375]\n",
      "True\n",
      "-----\n",
      "LinSolver Answer:  [1.76424364 0.38613576]\n",
      "Isometry:  [0.98606756 0.16634531]\n",
      "   ┌──────────┐\n",
      "q: ┤ Isometry ├\n",
      "   └──────────┘\n",
      "X:  [1.7688714  0.36976202]\n",
      "Answer:  [1.76424364 0.38613576]\n",
      "False\n",
      "-----\n"
     ]
    }
   ],
   "source": [
    "for a, b, x in zip(a_tests, b_tests, x_tests):\n",
    "    naive_hhl_solution = TrueHHL().solve(a, b)\n",
    "    print(\"LinSolver Answer: \", compute_x(naive_hhl_solution))\n",
    "    answer = hhl_solver(a, b)\n",
    "\n",
    "    print(\"X: \", x)\n",
    "\n",
    "    print(\"Answer: \", answer)\n",
    "    print(np.allclose(np.dot(a, answer), b))\n",
    "    print(\"-----\")"
   ]
  },
  {
   "cell_type": "markdown",
   "id": "064e8d5a-2b97-46dd-b9d6-d26a91525cd7",
   "metadata": {},
   "source": [
    "## Try for Yourself"
   ]
  },
  {
   "cell_type": "markdown",
   "id": "e69c32cd-6d93-42f9-9846-ea635cf3f532",
   "metadata": {},
   "source": [
    "The common example"
   ]
  },
  {
   "cell_type": "code",
   "execution_count": 35,
   "id": "68ac18a7-698d-4d4d-95fa-7ef2c14bf8ee",
   "metadata": {},
   "outputs": [
    {
     "name": "stdout",
     "output_type": "stream",
     "text": [
      "Isometry:  [1. 0.]\n",
      "   ┌──────────┐\n",
      "q: ┤ Isometry ├\n",
      "   └──────────┘\n",
      "calculated x =  [1.125 0.375]\n",
      "True x =  [1.125 0.375]\n"
     ]
    },
    {
     "data": {
      "text/html": [
       "<pre style=\"word-wrap: normal;white-space: pre;background: #fff0;line-height: 1.1;font-family: &quot;Courier New&quot;,Courier,monospace\">        ┌────────────────────┐┌──────┐                         ┌─────────┐\n",
       "  q185: ┤ Amplitude Encoding ├┤3     ├─────────────────────────┤3        ├\n",
       "        └────────────────────┘│      │┌───────────────────────┐│         │\n",
       "q186_0: ──────────────────────┤0     ├┤2                      ├┤0        ├\n",
       "                              │  QPE ││                       ││  QPE_dg │\n",
       "q186_1: ──────────────────────┤1     ├┤1                      ├┤1        ├\n",
       "                              │      ││  Conditional Rotation ││         │\n",
       "q186_2: ──────────────────────┤2     ├┤0                      ├┤2        ├\n",
       "                              └──────┘│                       │└─────────┘\n",
       "  q187: ──────────────────────────────┤3                      ├───────────\n",
       "                                      └───────────────────────┘           </pre>"
      ],
      "text/plain": [
       "        ┌────────────────────┐┌──────┐                         ┌─────────┐\n",
       "  q185: ┤ Amplitude Encoding ├┤3     ├─────────────────────────┤3        ├\n",
       "        └────────────────────┘│      │┌───────────────────────┐│         │\n",
       "q186_0: ──────────────────────┤0     ├┤2                      ├┤0        ├\n",
       "                              │  QPE ││                       ││  QPE_dg │\n",
       "q186_1: ──────────────────────┤1     ├┤1                      ├┤1        ├\n",
       "                              │      ││  Conditional Rotation ││         │\n",
       "q186_2: ──────────────────────┤2     ├┤0                      ├┤2        ├\n",
       "                              └──────┘│                       │└─────────┘\n",
       "  q187: ──────────────────────────────┤3                      ├───────────\n",
       "                                      └───────────────────────┘           "
      ]
     },
     "execution_count": 35,
     "metadata": {},
     "output_type": "execute_result"
    }
   ],
   "source": [
    "A = np.array([ [1, -1/3], [-1/3, 1] ])\n",
    "\n",
    "b = np.array([1, 0])\n",
    "\n",
    "x = np.array([1.125, 0.375])\n",
    "\n",
    "solution = HHL(A, b)\n",
    "\n",
    "calculated_x = compute_x(solution)\n",
    "print(\"calculated x = \", calculated_x)\n",
    "print(\"True x = \", x)\n",
    "\n",
    "solution.state.draw()"
   ]
  },
  {
   "cell_type": "markdown",
   "id": "ce3b2ff3-b904-44cf-bb6d-5d050a3a3778",
   "metadata": {},
   "source": [
    "A random matrix that works okay, but not well."
   ]
  },
  {
   "cell_type": "code",
   "execution_count": 36,
   "id": "7a1526cc-4f24-4ee8-9c38-f213e88d39f9",
   "metadata": {},
   "outputs": [
    {
     "name": "stdout",
     "output_type": "stream",
     "text": [
      "Isometry:  [0.99399629 0.10941377]\n",
      "   ┌──────────┐\n",
      "q: ┤ Isometry ├\n",
      "   └──────────┘\n",
      "calculated x =  [1.5012976  0.33991712]\n",
      "True x =  [1.50609134 0.33022247]\n"
     ]
    },
    {
     "data": {
      "text/html": [
       "<pre style=\"word-wrap: normal;white-space: pre;background: #fff0;line-height: 1.1;font-family: &quot;Courier New&quot;,Courier,monospace\">        ┌────────────────────┐┌──────┐                         ┌─────────┐\n",
       "  q215: ┤ Amplitude Encoding ├┤3     ├─────────────────────────┤3        ├\n",
       "        └────────────────────┘│      │┌───────────────────────┐│         │\n",
       "q216_0: ──────────────────────┤0     ├┤2                      ├┤0        ├\n",
       "                              │  QPE ││                       ││  QPE_dg │\n",
       "q216_1: ──────────────────────┤1     ├┤1                      ├┤1        ├\n",
       "                              │      ││  Conditional Rotation ││         │\n",
       "q216_2: ──────────────────────┤2     ├┤0                      ├┤2        ├\n",
       "                              └──────┘│                       │└─────────┘\n",
       "  q217: ──────────────────────────────┤3                      ├───────────\n",
       "                                      └───────────────────────┘           </pre>"
      ],
      "text/plain": [
       "        ┌────────────────────┐┌──────┐                         ┌─────────┐\n",
       "  q215: ┤ Amplitude Encoding ├┤3     ├─────────────────────────┤3        ├\n",
       "        └────────────────────┘│      │┌───────────────────────┐│         │\n",
       "q216_0: ──────────────────────┤0     ├┤2                      ├┤0        ├\n",
       "                              │  QPE ││                       ││  QPE_dg │\n",
       "q216_1: ──────────────────────┤1     ├┤1                      ├┤1        ├\n",
       "                              │      ││  Conditional Rotation ││         │\n",
       "q216_2: ──────────────────────┤2     ├┤0                      ├┤2        ├\n",
       "                              └──────┘│                       │└─────────┘\n",
       "  q217: ──────────────────────────────┤3                      ├───────────\n",
       "                                      └───────────────────────┘           "
      ]
     },
     "execution_count": 36,
     "metadata": {},
     "output_type": "execute_result"
    }
   ],
   "source": [
    "A = np.array([[ 0.68559428, -0.11680403],\n",
    "       [-0.11680403,  0.86405785]])\n",
    "\n",
    "b = np.array([0.99399629, 0.10941377])\n",
    "\n",
    "x = np.array([1.50609134, 0.33022247])\n",
    "\n",
    "solution = HHL(A, b)\n",
    "\n",
    "calculated_x = compute_x(solution)\n",
    "print(\"calculated x = \", calculated_x)\n",
    "print(\"True x = \", x)\n",
    "\n",
    "solution.state.draw()"
   ]
  }
 ],
 "metadata": {
  "kernelspec": {
   "display_name": "Python 3 (ipykernel)",
   "language": "python",
   "name": "python3"
  },
  "language_info": {
   "codemirror_mode": {
    "name": "ipython",
    "version": 3
   },
   "file_extension": ".py",
   "mimetype": "text/x-python",
   "name": "python",
   "nbconvert_exporter": "python",
   "pygments_lexer": "ipython3",
   "version": "3.8.9"
  }
 },
 "nbformat": 4,
 "nbformat_minor": 5
}
